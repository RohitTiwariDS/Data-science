{
 "cells": [
  {
   "cell_type": "markdown",
   "id": "e350b0f0",
   "metadata": {},
   "source": [
    "Question 1 : What is the primary goal of Object-Oriented Programming (OOP)?\n",
    "\n",
    "Answer - The primary goal of Object-Oriented Programming is to create software that is well-structured,\n",
    "easy to understand, and can model real-world or conceptual systems effectively through the use of objects,\n",
    "encapsulation, inheritance, abstraction, and polymorphism. This approach promotes code that is modular, maintainable, \n",
    "and reusable.\n",
    "A few goals of oops can be understood like below -\n",
    "\n",
    "1. Modularity - OOP has code modularity i.e breaking down complex systems into smaller objects . Each object has a specific \n",
    "aspect of functionality which makes it easy to understand maintain and reuse code.\n",
    "2. Code Reusability - OOP encourages the creation of reusable classes and objects, which can save development time \n",
    "and reduce the likelihood of errors.\n",
    "3. Flexibility and Maintainabilty - OOP promotes code that is more flexible and easier to maintain because of its modular, \n",
    "encapsulated, and abstract nature. Changes to one part of the system are less likely to affect other parts \n",
    "if the principles of OOP are followed.\n",
    "4. Inheritance - Inheritance allows you to create new classes by inheriting properties and behaviors \n",
    "(attributes and methods) from existing classes. \n",
    "5.Encapsulation: Encapsulation allows for access control, which means you can specify which parts of an object \n",
    "are accessible from outside and which are not.\n",
    "\n",
    "    "
   ]
  },
  {
   "cell_type": "markdown",
   "id": "c0f1dec1",
   "metadata": {},
   "source": [
    "Question 2  : What is an object in Python?\n",
    "\n",
    "Answer :- Object is an instance of class that is used to acess the properties of class."
   ]
  },
  {
   "cell_type": "markdown",
   "id": "140ecbee",
   "metadata": {},
   "source": [
    "Question 3  : What is a class in Python?\n",
    "A class in a blueprint or template for creating objects . \n",
    "A class consist of attributes and functions or methods(i.e the behaviour implementation ) "
   ]
  },
  {
   "cell_type": "markdown",
   "id": "bb001e69",
   "metadata": {},
   "source": [
    "Question 4  : What are attributes and methods in a class?\n",
    "    \n",
    "Ans - Classes are a mix of methods and attributes. Methods and Attributes are the two fundamental that that are used to define \n",
    "the behaviour and structure of class.\n",
    "\n",
    "Attributes :\n",
    "\n",
    "Attributes are variables or data members associated with a class.\n",
    "They represent the characteristics or properties of objects created from that class.\n",
    "Attributes define the state of an object and store data that describes the object's characteristics.\n",
    "Attributes are also sometimes referred to as properties or fields.\n",
    "Example: In a class representing a \"Car,\" attributes could include \"color,\" \"make,\" \"model,\" \"year,\" and \"mileage.\"\n",
    "    \n",
    "Methods :\n",
    "\n",
    "Methods are functions that are defined within a class and operate on the attributes of objects created from that class.\n",
    "They define the behavior or actions that objects of the class can perform.\n",
    "Methods can manipulate the attributes of the class, perform calculations, and interact with other objects or the external\n",
    "environment.\n",
    "Methods are also sometimes referred to as functions or member functions.\n",
    "Example: In a class representing a \"Car,\" methods could include \"start_engine,\" \"stop_engine,\" \"accelerate,\" \"brake,\" \n",
    "and \"get_mileage.\""
   ]
  },
  {
   "cell_type": "markdown",
   "id": "adc016eb",
   "metadata": {},
   "source": [
    "Question 5. What is the difference between class variables and instance variables in Python?\n",
    "Answer - \n",
    "\n",
    "1. Class variables are shared among all instances of a class, have class-level scope, and are accessed using the class name.\n",
    "2. Instance variables are specific to each object (instance), have instance-level scope, and are accessed using the object's name.\n",
    "\n",
    "Example below -"
   ]
  },
  {
   "cell_type": "code",
   "execution_count": 4,
   "id": "e141a5d3",
   "metadata": {},
   "outputs": [],
   "source": [
    "class banks:\n",
    "    #class variable\n",
    "    Bank_tagline = 'Money money Money'\n",
    "    def __init__(self,customer_name):\n",
    "        #instance variable\n",
    "        self.customer_name = customer_name\n",
    "    \n",
    "    "
   ]
  },
  {
   "cell_type": "code",
   "execution_count": 7,
   "id": "233d2e45",
   "metadata": {},
   "outputs": [
    {
     "name": "stdout",
     "output_type": "stream",
     "text": [
      "ram\n"
     ]
    }
   ],
   "source": [
    "#as we can see below we can access instance variables using bank1 which is an instance of class bank\n",
    "bank1= banks(\"ram\")\n",
    "print(bank1.customer_name)"
   ]
  },
  {
   "cell_type": "code",
   "execution_count": 8,
   "id": "63d62f56",
   "metadata": {},
   "outputs": [
    {
     "name": "stdout",
     "output_type": "stream",
     "text": [
      "Money money Money\n"
     ]
    }
   ],
   "source": [
    "#as we can see below we can access class variables using class name which is defined globally inside class\n",
    "print(banks.Bank_tagline)"
   ]
  },
  {
   "cell_type": "markdown",
   "id": "eb056671",
   "metadata": {},
   "source": [
    "Question 6. What is the purpose of the self parameter in Python class methods?\n",
    "\n",
    "Answer -  Self refers to the instance of the class itself. When you define a method within a class,you typically include self \n",
    "as the first parameter in the method's parameter list. \n",
    "The self parameter allows you to access and manipulate the attributes and methods of the current instance of the class. \n",
    "It acts as a reference to the object on which the method is called. \n",
    "Uses of self -\n",
    "1. Accessing Attributes: Inside a class method, you can use self to access the object's attributes. \n",
    "2. Calling Other Methods: You can use self to call other methods within the same class. This is especially useful when \n",
    "one method's behavior depends on another method.\n",
    "3. Creating and Manipulating Instance-Specific Data: Each instance of a class can have its own set of attribute values. \n",
    "The self parameter helps in distinguishing between different instances of the same class, allowing each instance to \n",
    "maintain its own state."
   ]
  },
  {
   "cell_type": "markdown",
   "id": "67e57254",
   "metadata": {},
   "source": [
    "Question 7. For a library management system, you have to design the \"Book\" class with OOP\n",
    "principles in mind. The “Book” class will have following attributes:\n",
    "a. title: Represents the title of the book.\n",
    "b. author: Represents the author(s) of the book.\n",
    "c. isbn: Represents the ISBN (International Standard Book Number) of the book.\n",
    "d. publication_year: Represents the year of publication of the book.\n",
    "e. available_copies: Represents the number of copies available for checkout.\n",
    "The class will also include the following methods:\n",
    "a. check_out(self): Decrements the available copies by one if there are copies\n",
    "available for checkout.\n",
    "b. return_book(self): Increments the available copies by one when a book is\n",
    "returned.\n",
    "c. display_book_info(self): Displays the information about the book, including its\n",
    "attributes and the number of available copies."
   ]
  },
  {
   "cell_type": "code",
   "execution_count": 53,
   "id": "56906781",
   "metadata": {},
   "outputs": [],
   "source": [
    "class Book:\n",
    "    def __init__(self,title,author,isbn,publication_year,available_copies):\n",
    "        self.title = title\n",
    "        self.author =author\n",
    "        self.isbn =isbn\n",
    "        self.publication_year = publication_year\n",
    "        self.available_copies = available_copies\n",
    "    def check_out(self,check_out_quantity):\n",
    "        self.check_out_quantity = check_out_quantity\n",
    "        if check_out_quantity > 0:\n",
    "            self.available_copies = self.available_copies - self.check_out_quantity\n",
    "            print (f\"{self.check_out_quantity} number of books have been checked out and no of books available now are {self.available_copies}\")\n",
    "        else:\n",
    "            print(\"enter a valid check out quantity\")\n",
    "    def return_book(self,return_quantity):\n",
    "        self.return_quantity = return_quantity\n",
    "        if return_quantity > 0:\n",
    "            self.available_copies = self.available_copies + self.return_quantity\n",
    "            print (f\"{self.return_quantity} number of books have been returned and no of books available now are {self.available_copies}\")\n",
    "        else:\n",
    "            print(\"enter a valid return quantity\")\n",
    "    def display_book_info(self) :\n",
    "        print(f\"Liabrary has {self.title} written by {self.author} with isbn {self.isbn} which was published in {self.publication_year} and available copies are {self.available_copies}\")\n",
    "            \n",
    "        "
   ]
  },
  {
   "cell_type": "code",
   "execution_count": 54,
   "id": "ac7570cd",
   "metadata": {},
   "outputs": [],
   "source": [
    "Book1 = Book(\"Harry Potter\",\"J.K.ROWLING\",123456,1995,200)"
   ]
  },
  {
   "cell_type": "code",
   "execution_count": 55,
   "id": "bd9aabae",
   "metadata": {},
   "outputs": [
    {
     "name": "stdout",
     "output_type": "stream",
     "text": [
      "120 number of books have been checked out and no of books available now are 80\n",
      "10 number of books have been returned and no of books available now are 90\n",
      "Liabrary has Harry Potter written by J.K.ROWLING with isbn 123456 which was published in 1995 and available copies are 90\n"
     ]
    }
   ],
   "source": [
    "Book1.check_out(120)\n",
    "Book1.return_book(10)\n",
    "Book1.display_book_info()"
   ]
  },
  {
   "cell_type": "markdown",
   "id": "2e1f3758",
   "metadata": {},
   "source": [
    "Question 8 - For a ticket booking system, you have to design the \"Ticket\" class with OOP\n",
    "principles in mind. The “Ticket” class should have the following attributes:\n",
    "a. ticket_id: Represents the unique identifier for the ticket.\n",
    "b. event_name: Represents the name of the event.\n",
    "c. event_date: Represents the date of the event.\n",
    "d. venue: Represents the venue of the event.\n",
    "e. seat_number: Represents the seat number associated with the ticket.\n",
    "f. price: Represents the price of the ticket.\n",
    "g. is_reserved: Represents the reservation status of the ticket.\n",
    "The class also includes the following methods:\n",
    "a. reserve_ticket(self): Marks the ticket as reserved if it is not already reserved.\n",
    "b. cancel_reservation(self): Cancels the reservation of the ticket if it is already\n",
    "reserved.\n",
    "c. display_ticket_info(self): Displays the information about the ticket, including its\n",
    "attributes and reservation status."
   ]
  },
  {
   "cell_type": "code",
   "execution_count": 108,
   "id": "910287c6",
   "metadata": {},
   "outputs": [],
   "source": [
    "class Ticket:\n",
    "    def __init__(self, ticket_id, event_name, event_date, venue, seat_number, price):\n",
    "        self.ticket_id = ticket_id\n",
    "        self.event_name = event_name\n",
    "        self.event_date = event_date\n",
    "        self.venue = venue\n",
    "        self.seat_number = seat_number\n",
    "        self.price = price\n",
    "        self.is_reserved = False  \n",
    "\n",
    "    def reserve_ticket(self):\n",
    "        if not self.is_reserved:\n",
    "            self.is_reserved = True\n",
    "            print(f\"Ticket {self.ticket_id} has been reserved.\")\n",
    "        else:\n",
    "            print(f\"Ticket {self.ticket_id} is already reserved.\")\n",
    "\n",
    "    def cancel_reservation(self):\n",
    "        if self.is_reserved:\n",
    "            self.is_reserved = False\n",
    "            print(f\"Reservation for ticket {self.ticket_id} is canceled.\")\n",
    "        else:\n",
    "            print(f\"Ticket {self.ticket_id} is not reserved.\")\n",
    "\n",
    "    def display_ticket_info(self):\n",
    "        print(\"Ticket Information:\")\n",
    "        print(f\"Ticket ID: {self.ticket_id}\")\n",
    "        print(f\"Event Name: {self.event_name}\")\n",
    "        print(f\"Event Date: {self.event_date}\")\n",
    "        print(f\"Venue: {self.venue}\")\n",
    "        print(f\"Seat Number: {self.seat_number}\")\n",
    "        print(f\"Price: {self.price}\")\n",
    "        if self.is_reserved:\n",
    "            print(\"Reservation Status: Reserved\")\n",
    "        else:\n",
    "            print(\"Reservation Status: Not Reserved\")"
   ]
  },
  {
   "cell_type": "code",
   "execution_count": 110,
   "id": "d8155b4d",
   "metadata": {},
   "outputs": [],
   "source": [
    "Ticket1 = Ticket(1,\"Jurassic Park\",\"18.12.2023\",\"Pune\",15,450)\n",
    "Ticket2 = Ticket(2,\"Jurassic Park\",\"18.12.2023\",\"Pune\",17,450)"
   ]
  },
  {
   "cell_type": "code",
   "execution_count": 111,
   "id": "96cf4a57",
   "metadata": {},
   "outputs": [
    {
     "name": "stdout",
     "output_type": "stream",
     "text": [
      "Ticket 1 is not reserved.\n"
     ]
    }
   ],
   "source": [
    "Ticket1.cancel_reservation()"
   ]
  },
  {
   "cell_type": "code",
   "execution_count": 112,
   "id": "1eb988b6",
   "metadata": {},
   "outputs": [
    {
     "name": "stdout",
     "output_type": "stream",
     "text": [
      "Ticket 1 has been reserved.\n"
     ]
    }
   ],
   "source": [
    "Ticket1.reserve_ticket()"
   ]
  },
  {
   "cell_type": "code",
   "execution_count": 114,
   "id": "deeef163",
   "metadata": {},
   "outputs": [
    {
     "name": "stdout",
     "output_type": "stream",
     "text": [
      "Ticket Information:\n",
      "Ticket ID: 1\n",
      "Event Name: Jurassic Park\n",
      "Event Date: 18.12.2023\n",
      "Venue: Pune\n",
      "Seat Number: 15\n",
      "Price: 450\n",
      "Reservation Status: Reserved\n"
     ]
    }
   ],
   "source": [
    "Ticket1.display_ticket_info()"
   ]
  },
  {
   "cell_type": "code",
   "execution_count": 115,
   "id": "8a04e2e5",
   "metadata": {},
   "outputs": [
    {
     "name": "stdout",
     "output_type": "stream",
     "text": [
      "Reservation for ticket 1 is canceled.\n"
     ]
    }
   ],
   "source": [
    "Ticket1.cancel_reservation()"
   ]
  },
  {
   "cell_type": "markdown",
   "id": "b06c3394",
   "metadata": {},
   "source": [
    "Question 9 - You are creating a shopping cart for an e-commerce website. Using OOP to model\n",
    "the \"ShoppingCart\" functionality the class should contain following attributes and\n",
    "methods:\n",
    "a. items: Represents the list of items in the shopping cart.\n",
    "The class also includes the following methods:\n",
    "\n",
    "a. add_item(self, item): Adds an item to the shopping cart by appending it to the\n",
    "list of items.\n",
    "b. remove_item(self, item): Removes an item from the shopping cart if it exists in\n",
    "the list.\n",
    "c. view_cart(self): Displays the items currently present in the shopping cart.\n",
    "d. clear_cart(self): Clears all items from the shopping cart by reassigning an\n",
    "empty list to the items attribute.\n",
    "\n"
   ]
  },
  {
   "cell_type": "code",
   "execution_count": 171,
   "id": "b973fc8a",
   "metadata": {},
   "outputs": [],
   "source": [
    "class ShoppingCart:\n",
    "    def __init__(self):\n",
    "        self.item = []\n",
    "    def add_item(self,item):\n",
    "        if item not in self.item:\n",
    "            self.item.append(item)\n",
    "            print(f\"{item} added to your cart\")\n",
    "        else :\n",
    "            print(\"item already exists in cart\")\n",
    "    def remove_item(self,item):\n",
    "        if item in self.item:\n",
    "            self.item.remove(item)\n",
    "            print(f\"item {item} successfully removed from cart\")\n",
    "        else:\n",
    "            print(\"item does not exist in cart\")\n",
    "    def view_cart(self):\n",
    "        for i in self.item:\n",
    "            print(i)\n",
    "    def clear_cart(self):\n",
    "        self.item = []\n",
    "        print(\"the cart has been emptied now, please add items to continue shopping\")\n",
    "        \n",
    "        \n",
    "        \n",
    "        "
   ]
  },
  {
   "cell_type": "code",
   "execution_count": 172,
   "id": "92dbd7ad",
   "metadata": {},
   "outputs": [
    {
     "name": "stdout",
     "output_type": "stream",
     "text": [
      "washing Machine added to your cart\n",
      "55 inch MI Tv added to your cart\n",
      "Curtains added to your cart\n"
     ]
    }
   ],
   "source": [
    "ShoppingCart1= ShoppingCart()\n",
    "ShoppingCart1.add_item(\"washing Machine\")\n",
    "ShoppingCart1.add_item(\"55 inch MI Tv\")\n",
    "ShoppingCart1.add_item(\"Curtains\")\n",
    "\n"
   ]
  },
  {
   "cell_type": "code",
   "execution_count": 173,
   "id": "7d367b40",
   "metadata": {},
   "outputs": [
    {
     "name": "stdout",
     "output_type": "stream",
     "text": [
      "item Curtains successfully removed from cart\n"
     ]
    }
   ],
   "source": [
    "\n",
    "ShoppingCart1.remove_item(\"Curtains\")"
   ]
  },
  {
   "cell_type": "code",
   "execution_count": 174,
   "id": "b64520d4",
   "metadata": {},
   "outputs": [
    {
     "name": "stdout",
     "output_type": "stream",
     "text": [
      "washing Machine\n",
      "55 inch MI Tv\n"
     ]
    }
   ],
   "source": [
    "ShoppingCart1.view_cart()"
   ]
  },
  {
   "cell_type": "code",
   "execution_count": 175,
   "id": "7e54bafc",
   "metadata": {},
   "outputs": [
    {
     "name": "stdout",
     "output_type": "stream",
     "text": [
      "item already exists in cart\n",
      "item already exists in cart\n",
      "Curtains added to your cart\n"
     ]
    }
   ],
   "source": [
    "ShoppingCart1.add_item(\"washing Machine\")\n",
    "ShoppingCart1.add_item(\"55 inch MI Tv\")\n",
    "ShoppingCart1.add_item(\"Curtains\")"
   ]
  },
  {
   "cell_type": "code",
   "execution_count": 176,
   "id": "26cb0432",
   "metadata": {},
   "outputs": [
    {
     "name": "stdout",
     "output_type": "stream",
     "text": [
      "the cart has been emptied now, please add items to continue shopping\n"
     ]
    }
   ],
   "source": [
    "ShoppingCart1.clear_cart()"
   ]
  },
  {
   "cell_type": "markdown",
   "id": "b0560ece",
   "metadata": {},
   "source": [
    "Question 10. Imagine a school management system. You have to design the \"Student\" class using\n",
    "OOP concepts.The “Student” class has the following attributes:\n",
    "a. name: Represents the name of the student.\n",
    "b. age: Represents the age of the student.\n",
    "c. grade: Represents the grade or class of the student.\n",
    "d. student_id: Represents the unique identifier for the student.\n",
    "e. attendance: Represents the attendance record of the student.\n",
    "The class should also include the following methods:\n",
    "a. update_attendance(self, date, status): Updates the attendance record of the\n",
    "student for a given date with the provided status (e.g., present or absent).\n",
    "b. get_attendance(self): Returns the attendance record of the student.\n",
    "c. get_average_attendance(self): Calculates and returns the average\n",
    "attendance percentage of the student based on their attendance record."
   ]
  },
  {
   "cell_type": "code",
   "execution_count": 102,
   "id": "1de2473a",
   "metadata": {},
   "outputs": [],
   "source": [
    "class Student:\n",
    "    \n",
    "    def __init__(self,name,age,grade,student_id):\n",
    "        self.name = name\n",
    "        self.age = age\n",
    "        self.grade = grade\n",
    "        self.student_id = student_id\n",
    "        self.attendence = {}\n",
    "    def update_attendence(self,date,status):\n",
    "        self.date = date\n",
    "        self.status = status\n",
    "        self.attendence[date] = self.status    \n",
    "    def get_attendence(self):\n",
    "        return self.attendence\n",
    "    def get_average_attendence(self):\n",
    "        present_no_of_days = 0\n",
    "        total_days = len(self.attendence)\n",
    "        print (f\"{total_days} before\")\n",
    "        print (f\"{present_no_of_days} after\")\n",
    "        for self.status in self.attendence.values():\n",
    "            if self.status == \"present\":\n",
    "                #print(i)\n",
    "                print(self.attendence.values())\n",
    "                present_no_of_days = present_no_of_days+1\n",
    "                print(present_no_of_days)\n",
    "            else:\n",
    "                print(\"student absent\")\n",
    "        \n",
    "        print (present_no_of_days)\n",
    "        Perncent_average = (present_no_of_days/total_days)*100\n",
    "        return Perncent_average"
   ]
  },
  {
   "cell_type": "code",
   "execution_count": 103,
   "id": "83b8c29a",
   "metadata": {},
   "outputs": [],
   "source": [
    "student1 = Student(\"Amish\",25,\"D\",11)"
   ]
  },
  {
   "cell_type": "code",
   "execution_count": 104,
   "id": "410055ec",
   "metadata": {},
   "outputs": [],
   "source": [
    "student1.update_attendence( \"03.10.2023\",\"present\")\n",
    "student1.update_attendence( \"04.10.2023\",\"present\")\n",
    "student1.update_attendence( \"05.10.2023\",\"absent\")\n",
    "student1.update_attendence( \"06.10.2023\",\"absent\")\n",
    "student1.update_attendence( \"07.10.2023\",\"present\")\n",
    "student1.update_attendence( \"08.10.2023\",\"absent\")"
   ]
  },
  {
   "cell_type": "code",
   "execution_count": 105,
   "id": "44c915ed",
   "metadata": {},
   "outputs": [
    {
     "name": "stdout",
     "output_type": "stream",
     "text": [
      "6 before\n",
      "0 after\n",
      "0\n",
      "dict_values(['present', 'present', 'absent', 'absent', 'present', 'absent'])\n",
      "1\n",
      "1\n",
      "dict_values(['present', 'present', 'absent', 'absent', 'present', 'absent'])\n",
      "2\n",
      "2\n",
      "student absent\n",
      "2\n",
      "student absent\n",
      "2\n",
      "dict_values(['present', 'present', 'absent', 'absent', 'present', 'absent'])\n",
      "3\n",
      "3\n",
      "student absent\n",
      "3\n"
     ]
    },
    {
     "data": {
      "text/plain": [
       "50.0"
      ]
     },
     "execution_count": 105,
     "metadata": {},
     "output_type": "execute_result"
    }
   ],
   "source": [
    "student1.get_attendence()\n",
    "student1.get_average_attendence()"
   ]
  }
 ],
 "metadata": {
  "kernelspec": {
   "display_name": "Python 3 (ipykernel)",
   "language": "python",
   "name": "python3"
  },
  "language_info": {
   "codemirror_mode": {
    "name": "ipython",
    "version": 3
   },
   "file_extension": ".py",
   "mimetype": "text/x-python",
   "name": "python",
   "nbconvert_exporter": "python",
   "pygments_lexer": "ipython3",
   "version": "3.11.5"
  }
 },
 "nbformat": 4,
 "nbformat_minor": 5
}
